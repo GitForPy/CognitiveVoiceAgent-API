{
 "cells": [
  {
   "cell_type": "markdown",
   "metadata": {},
   "source": [
    "# Примеры работы с API\n"
   ]
  },
  {
   "cell_type": "markdown",
   "metadata": {},
   "source": [
    "Этот ноутбук демонстрирует, как взаимодействовать с API на практике. Примеры включают создание нового чата, управление динамическими диалогами, получение активных чатов и удаление чатов. Каждая секция содержит фрагменты кода и пояснения, чтобы помочь вам понять функциональность и использование API."
   ]
  },
  {
   "cell_type": "markdown",
   "metadata": {},
   "source": [
    "# Создание нового чата с передачей ФИО и наименованием компании компании"
   ]
  },
  {
   "cell_type": "code",
   "execution_count": 4,
   "metadata": {},
   "outputs": [
    {
     "name": "stdout",
     "output_type": "stream",
     "text": [
      "Полученный ответ: {'chat_id': 'c0f8d97d-fe16-403e-a690-6f9a12898246', 'message': 'Здравствуйте. Меня зовут цифровой помощник, я представляю компанию ЭнергоСбыт Плюс. Звоню по вопросу задолженности по коммунальным услугам. В целях контроля качества разговор записывается. Подскажите, пожалуйста, я сейчас разговариваю c Степанчук Алена Сергеевна?'}\n",
      "Получен chat_id: c0f8d97d-fe16-403e-a690-6f9a12898246\n"
     ]
    }
   ],
   "source": [
    "import requests\n",
    "\n",
    "# Base URL for the API\n",
    "BASE_URL = \"http://77.239.108.6:6543\"\n",
    "\n",
    "# Sending a POST request to create a new chat\n",
    "response = requests.post(\n",
    "    f\"{BASE_URL}/api/get_new_chat_id\",\n",
    "    json={\n",
    "        \"full_name\": \"Степанчук Алена Сергеевна\",  # Full name of the user\n",
    "        \"company_name\": \"ЭнергоСбыт Плюс\"          # Company name\n",
    "    }\n",
    ")\n",
    "\n",
    "# Parsing the response JSON\n",
    "data = response.json()\n",
    "\n",
    "# Printing the response and extracting the chat_id\n",
    "print(\"Полученный ответ:\", data)\n",
    "chat_id = data[\"chat_id\"]\n",
    "print(\"Получен chat_id:\", chat_id)"
   ]
  },
  {
   "cell_type": "markdown",
   "metadata": {},
   "source": [
    "# Ведение диалога с передачей динамических переменных\n",
    "Code to send a POST request to interact with the chat using dynamic variables."
   ]
  },
  {
   "cell_type": "code",
   "execution_count": 5,
   "metadata": {},
   "outputs": [
    {
     "name": "stdout",
     "output_type": "stream",
     "text": [
      "Ответ бота: {'chat_id': 'c0f8d97d-fe16-403e-a690-6f9a12898246', 'message': 'На вашем лицевом счёте 555888333 по адресу Москва, ул. Победы, д. 1 образовалась задолженность в размере 50 999 руб. Скажите, пожалуйста, когда вы планируете произвести оплату?', 'status': 'in_progress'}\n"
     ]
    }
   ],
   "source": [
    "# Sending a POST request to interact with the chat using dynamic variables\n",
    "response = requests.post(\n",
    "    f\"{BASE_URL}/api/chat\",\n",
    "    json={\n",
    "        \"chat_id\": chat_id,  # Chat ID obtained from the previous request\n",
    "        \"message\": \"да\",  # User's message\n",
    "        \"full_name\": \"Степанчук Алена Сергеевна\",  # Full name of the user\n",
    "        \"account_number\": \"555888333\",  # Account number\n",
    "        \"debt_amount\": \"50 999 руб.\",  # Debt amount\n",
    "        \"address\": \"Москва, ул. Победы, д. 1\",  # Address\n",
    "        \"company_name\": \"ЭнергоСбыт Плюс\",  # Company name\n",
    "        \"company_phone\": \"8-800-123-45-67\",  # Company phone number\n",
    "        \"partial_payment_amount\": \"50 000 руб.\"  # Partial payment amount\n",
    "    }\n",
    ")\n",
    "\n",
    "# Parsing the response JSON\n",
    "data = response.json()\n",
    "\n",
    "# Printing the bot's response\n",
    "print(\"Ответ бота:\", data)"
   ]
  },
  {
   "cell_type": "markdown",
   "metadata": {},
   "source": [
    "# Получение списка всех активных чатов\n",
    "Code to send a GET request to retrieve a list of all active chat IDs."
   ]
  },
  {
   "cell_type": "code",
   "execution_count": 6,
   "metadata": {},
   "outputs": [
    {
     "name": "stdout",
     "output_type": "stream",
     "text": [
      "Список чатов: ['c0f8d97d-fe16-403e-a690-6f9a12898246']\n"
     ]
    }
   ],
   "source": [
    "# Sending a GET request to retrieve a list of all active chat IDs\n",
    "response = requests.get(f\"{BASE_URL}/api/get_all_chat_ids\")\n",
    "\n",
    "# Printing the list of active chat IDs\n",
    "print(\"Список чатов:\", response.json())"
   ]
  },
  {
   "cell_type": "markdown",
   "metadata": {},
   "source": [
    "# Удаление чата по chat_id\n",
    "Code to send a POST request to delete a chat using its chat_id."
   ]
  },
  {
   "cell_type": "code",
   "execution_count": 7,
   "metadata": {},
   "outputs": [
    {
     "name": "stdout",
     "output_type": "stream",
     "text": [
      "Удаление чата: {'message': 'chat deleted'}\n"
     ]
    }
   ],
   "source": [
    "# Sending a POST request to delete a chat using its chat_id\n",
    "response = requests.post(\n",
    "    f\"{BASE_URL}/api/remove_chat_by_id\",\n",
    "    json={\"chat_id\": chat_id}  # Chat ID to be deleted\n",
    ")\n",
    "\n",
    "# Printing the response of the delete request\n",
    "print(\"Удаление чата:\", response.json())"
   ]
  }
 ],
 "metadata": {
  "kernelspec": {
   "display_name": ".venv",
   "language": "python",
   "name": "python3"
  },
  "language_info": {
   "codemirror_mode": {
    "name": "ipython",
    "version": 3
   },
   "file_extension": ".py",
   "mimetype": "text/x-python",
   "name": "python",
   "nbconvert_exporter": "python",
   "pygments_lexer": "ipython3",
   "version": "3.12.3"
  }
 },
 "nbformat": 4,
 "nbformat_minor": 2
}

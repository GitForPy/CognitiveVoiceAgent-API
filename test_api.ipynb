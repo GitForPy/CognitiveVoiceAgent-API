{
 "cells": [
  {
   "cell_type": "code",
   "execution_count": 30,
   "metadata": {},
   "outputs": [],
   "source": [
    "import requests"
   ]
  },
  {
   "cell_type": "code",
   "execution_count": 31,
   "metadata": {},
   "outputs": [],
   "source": [
    "BASE_URL = \"http://77.239.108.6:6543\""
   ]
  },
  {
   "cell_type": "code",
   "execution_count": 34,
   "metadata": {},
   "outputs": [
    {
     "name": "stdout",
     "output_type": "stream",
     "text": [
      "Полученный ответ: {'chat_id': '76882c50-bfbf-43a9-94a6-2ac5be25c55e', 'message': 'Здравствуйте. Меня зовут цифровой помощник, я представляю компанию ЭнергоСбыт. Звоню по вопросу задолженности по коммунальным услугам. В целях контроля качества разговор записывается. Подскажите, пожалуйста, я сейчас разговариваю со Степанчук Алена Сергеевна?'}\n",
      "Получен chat_id: 76882c50-bfbf-43a9-94a6-2ac5be25c55e\n"
     ]
    }
   ],
   "source": [
    "# Получение chat_id (передаем непустой JSON, например {\"dummy\": true})\n",
    "response = requests.get(f\"{BASE_URL}/api/get_new_chat_id\", json={\"dummy\": True})\n",
    "data = response.json()\n",
    "print(\"Полученный ответ:\", data)\n",
    "chat_id = data[\"chat_id\"]\n",
    "print(\"Получен chat_id:\", chat_id)"
   ]
  },
  {
   "cell_type": "code",
   "execution_count": 35,
   "metadata": {},
   "outputs": [
    {
     "name": "stdout",
     "output_type": "stream",
     "text": [
      "Ответ бота после подтверждения: {'chat_id': '76882c50-bfbf-43a9-94a6-2ac5be25c55e', 'message': 'На вашем лицевом счёте 111222333 по адресу Москва, Сокольнический вал, д. 20/3, кв. 3 образовалась задолженность в размере 24 760 руб. Скажите, пожалуйста, когда вы планируете произвести оплату?'}\n"
     ]
    }
   ],
   "source": [
    "# # Отправка ответа \"Да\" для перехода в следующую фазу (идентификация -> debt_discussion)\n",
    "response = requests.post(\n",
    "    f\"{BASE_URL}/api/chat\",\n",
    "    json={\"chat_id\": chat_id, \"message\": \"Да\"},\n",
    ")\n",
    "data = response.json()\n",
    "print(\"Ответ бота после подтверждения:\", data)\n"
   ]
  },
  {
   "cell_type": "code",
   "execution_count": null,
   "metadata": {},
   "outputs": [],
   "source": []
  }
 ],
 "metadata": {
  "kernelspec": {
   "display_name": ".venv",
   "language": "python",
   "name": "python3"
  },
  "language_info": {
   "codemirror_mode": {
    "name": "ipython",
    "version": 3
   },
   "file_extension": ".py",
   "mimetype": "text/x-python",
   "name": "python",
   "nbconvert_exporter": "python",
   "pygments_lexer": "ipython3",
   "version": "3.12.3"
  }
 },
 "nbformat": 4,
 "nbformat_minor": 2
}

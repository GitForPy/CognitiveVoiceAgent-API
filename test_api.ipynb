{
 "cells": [
  {
   "cell_type": "code",
   "execution_count": 44,
   "metadata": {},
   "outputs": [],
   "source": [
    "import requests"
   ]
  },
  {
   "cell_type": "code",
   "execution_count": 31,
   "metadata": {},
   "outputs": [],
   "source": [
    "BASE_URL = \"http://77.239.108.6:6543\""
   ]
  },
  {
   "cell_type": "code",
   "execution_count": 36,
   "metadata": {},
   "outputs": [
    {
     "name": "stdout",
     "output_type": "stream",
     "text": [
      "Полученный ответ: {'chat_id': '0e8540a2-dcbe-4791-a3e9-bf405077de91', 'message': 'Здравствуйте. Меня зовут цифровой помощник, я представляю компанию ЭнергоСбыт. Звоню по вопросу задолженности по коммунальным услугам. В целях контроля качества разговор записывается. Подскажите, пожалуйста, я сейчас разговариваю со Степанчук Алена Сергеевна?'}\n",
      "Получен chat_id: 0e8540a2-dcbe-4791-a3e9-bf405077de91\n"
     ]
    }
   ],
   "source": [
    "# Получение chat_id (передаем непустой JSON, например {\"dummy\": true})\n",
    "response = requests.get(f\"{BASE_URL}/api/get_new_chat_id\", json={\"dummy\": True})\n",
    "data = response.json()\n",
    "print(\"Полученный ответ:\", data)\n",
    "chat_id = data[\"chat_id\"]\n",
    "print(\"Получен chat_id:\", chat_id)"
   ]
  },
  {
   "cell_type": "code",
   "execution_count": 43,
   "metadata": {},
   "outputs": [
    {
     "name": "stdout",
     "output_type": "stream",
     "text": [
      "Ответ бота после подтверждения: {'chat_id': '0e8540a2-dcbe-4791-a3e9-bf405077de91', 'message': 'Оплатить коммунальные услуги можно через Личный кабинет на нашем сайте или мобильное приложение. Перейдите в раздел «Счета и оплаты», выберите способ оплаты (через СБП или банковской картой) и следуйте инструкциям на экране. Когда планируете оплатить?'}\n"
     ]
    }
   ],
   "source": [
    "# # Отправка ответа \"Да\" для перехода в следующую фазу (идентификация -> debt_discussion)\n",
    "response = requests.post(\n",
    "    f\"{BASE_URL}/api/chat\",\n",
    "    json={\"chat_id\": chat_id, \"message\": \"А как можно оплатить через ваш сайт или мобильное приложение?\"},\n",
    ")\n",
    "data = response.json()\n",
    "print(\"Ответ бота после подтверждения:\", data)\n"
   ]
  },
  {
   "cell_type": "code",
   "execution_count": null,
   "metadata": {},
   "outputs": [
    {
     "name": "stdout",
     "output_type": "stream",
     "text": [
      "Полученный ответ: {'chat_id': 'd81bfdcb-118b-4312-8a1f-0a7d066a4428', 'message': 'Здравствуйте. Меня зовут цифровой помощник, я представляю компанию МосЭнерго. Звоню по вопросу задолженности по коммунальным услугам. В целях контроля качества разговор записывается. Подскажите, пожалуйста, я сейчас разговариваю c Каспаров Гарри Кимович?'}\n",
      "Получен chat_id: d81bfdcb-118b-4312-8a1f-0a7d066a4428\n",
      "Ответ бота: {'chat_id': 'd81bfdcb-118b-4312-8a1f-0a7d066a4428', 'message': 'На вашем лицевом счёте 555888333 по адресу Москва, ул. Победы, д. 1 образовалась задолженность в размере 99 999 руб. Скажите, пожалуйста, когда вы планируете произвести оплату?'}\n"
     ]
    }
   ],
   "source": [
    "import requests\n",
    "\n",
    "BASE_URL = \"http://77.239.108.6:6543\"\n",
    "\n",
    "# 1. Создание нового чата с передачей ФИО и компании\n",
    "response = requests.post(\n",
    "    f\"{BASE_URL}/api/get_new_chat_id\",\n",
    "    json={\n",
    "        \"full_name\": \"Каспаров Гарри Кимович\",\n",
    "        \"company_name\": \"МосЭнерго\"\n",
    "    }\n",
    ")\n",
    "data = response.json()\n",
    "print(\"Полученный ответ:\", data)\n",
    "chat_id = data[\"chat_id\"]\n",
    "print(\"Получен chat_id:\", chat_id)\n",
    "\n",
    "# 2. Отправка сообщения с динамическими переменными (все значения можно менять)\n",
    "response = requests.post(\n",
    "    f\"{BASE_URL}/api/chat\",\n",
    "    json={\n",
    "        \"chat_id\": chat_id,\n",
    "        \"message\": \"Здравствуйте, я Каспаров Гарри Кимович\",\n",
    "        \"full_name\": \"Каспаров Гарри Кимович\",\n",
    "        \"account_number\": \"555888333\",\n",
    "        \"debt_amount\": \"99 999 руб.\",\n",
    "        \"address\": \"Москва, ул. Победы, д. 1\",\n",
    "        \"company_name\": \"МосЭнерго\",\n",
    "        \"company_phone\": \"8-800-123-45-67\",\n",
    "        \"partial_payment_amount\": \"50 000 руб.\"\n",
    "    }\n",
    ")\n",
    "data = response.json()\n",
    "print(\"Ответ бота:\", data)\n"
   ]
  },
  {
   "cell_type": "markdown",
   "metadata": {},
   "source": []
  },
  {
   "cell_type": "code",
   "execution_count": null,
   "metadata": {},
   "outputs": [],
   "source": []
  }
 ],
 "metadata": {
  "kernelspec": {
   "display_name": ".venv",
   "language": "python",
   "name": "python3"
  },
  "language_info": {
   "codemirror_mode": {
    "name": "ipython",
    "version": 3
   },
   "file_extension": ".py",
   "mimetype": "text/x-python",
   "name": "python",
   "nbconvert_exporter": "python",
   "pygments_lexer": "ipython3",
   "version": "3.12.3"
  }
 },
 "nbformat": 4,
 "nbformat_minor": 2
}

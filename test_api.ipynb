{
 "cells": [
  {
   "cell_type": "code",
   "execution_count": 12,
   "metadata": {},
   "outputs": [],
   "source": [
    "import requests"
   ]
  },
  {
   "cell_type": "code",
   "execution_count": 13,
   "metadata": {},
   "outputs": [],
   "source": [
    "BASE_URL = \"http://77.239.108.6:6543\""
   ]
  },
  {
   "cell_type": "code",
   "execution_count": 15,
   "metadata": {},
   "outputs": [
    {
     "ename": "NameError",
     "evalue": "name 'chat_id' is not defined",
     "output_type": "error",
     "traceback": [
      "\u001b[31m---------------------------------------------------------------------------\u001b[39m",
      "\u001b[31mNameError\u001b[39m                                 Traceback (most recent call last)",
      "\u001b[36mCell\u001b[39m\u001b[36m \u001b[39m\u001b[32mIn[15]\u001b[39m\u001b[32m, line 4\u001b[39m\n\u001b[32m      1\u001b[39m \u001b[38;5;66;03m# # Отправка ответа \"Да\" для перехода в следующую фазу (идентификация -> debt_discussion)\u001b[39;00m\n\u001b[32m      2\u001b[39m response = requests.post(\n\u001b[32m      3\u001b[39m     \u001b[33mf\u001b[39m\u001b[33m\"\u001b[39m\u001b[38;5;132;01m{\u001b[39;00mBASE_URL\u001b[38;5;132;01m}\u001b[39;00m\u001b[33m/api/chat\u001b[39m\u001b[33m\"\u001b[39m,\n\u001b[32m----> \u001b[39m\u001b[32m4\u001b[39m     json={\u001b[33m\"\u001b[39m\u001b[33mchat_id\u001b[39m\u001b[33m\"\u001b[39m: \u001b[43mchat_id\u001b[49m, \u001b[33m\"\u001b[39m\u001b[33mmessage\u001b[39m\u001b[33m\"\u001b[39m: \u001b[33m\"\u001b[39m\u001b[33mА как можно оплатить через ваш сайт или мобильное приложение?\u001b[39m\u001b[33m\"\u001b[39m},\n\u001b[32m      5\u001b[39m )\n\u001b[32m      6\u001b[39m data = response.json()\n\u001b[32m      7\u001b[39m \u001b[38;5;28mprint\u001b[39m(\u001b[33m\"\u001b[39m\u001b[33mОтвет бота после подтверждения:\u001b[39m\u001b[33m\"\u001b[39m, data)\n",
      "\u001b[31mNameError\u001b[39m: name 'chat_id' is not defined"
     ]
    }
   ],
   "source": [
    "# # Отправка ответа \"Да\" для перехода в следующую фазу (идентификация -> debt_discussion)\n",
    "response = requests.post(\n",
    "    f\"{BASE_URL}/api/chat\",\n",
    "    json={\"chat_id\": chat_id, \"message\": \"А как можно оплатить через ваш сайт или мобильное приложение?\"},\n",
    ")\n",
    "data = response.json()\n",
    "print(\"Ответ бота после подтверждения:\", data)\n"
   ]
  },
  {
   "cell_type": "code",
   "execution_count": 24,
   "metadata": {},
   "outputs": [
    {
     "name": "stdout",
     "output_type": "stream",
     "text": [
      "Полученный ответ: {'chat_id': 'd2b1a7d1-9c9a-4dfb-9a06-445b026c9663', 'message': 'Здравствуйте. Меня зовут цифровой помощник, я представляю компанию МосЭнерго. Звоню по вопросу задолженности по коммунальным услугам. В целях контроля качества разговор записывается. Подскажите, пожалуйста, я сейчас разговариваю c Криворучко Александра Ильинична?'}\n",
      "Получен chat_id: d2b1a7d1-9c9a-4dfb-9a06-445b026c9663\n"
     ]
    }
   ],
   "source": [
    "import requests\n",
    "\n",
    "BASE_URL = \"http://77.239.108.6:6543\"\n",
    "\n",
    "# 1. Создание нового чата с передачей ФИО и компании\n",
    "response = requests.post(\n",
    "    f\"{BASE_URL}/api/get_new_chat_id\",\n",
    "    json={\n",
    "        \"full_name\": \"Криворучко Александра Ильинична\",\n",
    "        \"company_name\": \"МосЭнерго\"\n",
    "    }\n",
    ")\n",
    "data = response.json()\n",
    "print(\"Полученный ответ:\", data)\n",
    "chat_id = data[\"chat_id\"]\n",
    "print(\"Получен chat_id:\", chat_id)"
   ]
  },
  {
   "cell_type": "code",
   "execution_count": 28,
   "metadata": {},
   "outputs": [
    {
     "name": "stdout",
     "output_type": "stream",
     "text": [
      "Ответ бота: {'chat_id': 'd2b1a7d1-9c9a-4dfb-9a06-445b026c9663', 'message': 'Вы упомянули, что планируете оплатить через 5 дней. Однако, чтобы избежать начисления штрафов и других негативных последствий, я рекомендую произвести оплату в течение 3 дней. Вы готовы рассмотреть этот вариант?'}\n"
     ]
    }
   ],
   "source": [
    "# 2. Отправка сообщения с динамическими переменными (все значения можно менять)\n",
    "response = requests.post(\n",
    "    f\"{BASE_URL}/api/chat\",\n",
    "    json={\n",
    "        \"chat_id\": chat_id,\n",
    "        \"message\": \"А сколько дней я предлагал?\",\n",
    "        \"full_name\": \"Криворучко Александра Ильинична\",\n",
    "        \"account_number\": \"555888333\",\n",
    "        \"debt_amount\": \"99 999 руб.\",\n",
    "        \"address\": \"Москва, ул. Победы, д. 1\",\n",
    "        \"company_name\": \"МосЭнерго\",\n",
    "        \"company_phone\": \"8-800-123-45-67\",\n",
    "        \"partial_payment_amount\": \"50 000 руб.\"\n",
    "    }\n",
    ")\n",
    "data = response.json()\n",
    "print(\"Ответ бота:\", data)\n"
   ]
  },
  {
   "cell_type": "code",
   "execution_count": null,
   "metadata": {},
   "outputs": [],
   "source": []
  },
  {
   "cell_type": "code",
   "execution_count": null,
   "metadata": {},
   "outputs": [],
   "source": [
    "from docx import Document\n",
    "from docx.shared import RGBColor\n",
    "from docx.oxml import parse_xml\n",
    "from docx.oxml.ns import nsdecls\n",
    "\n",
    "doc = Document()\n",
    "doc.add_heading('Документация API чат-бота взыскания задолженности', 0)\n",
    "\n",
    "# 1. Создание нового чата\n",
    "doc.add_heading('1. Создание нового чата', level=1)\n",
    "doc.add_paragraph('Эндпоинт: POST /api/get_new_chat_id')\n",
    "doc.add_paragraph('Описание: Создаёт новый чат и возвращает уникальный chat_id и приветственное сообщение. Позволяет персонализировать обращение к клиенту.')\n",
    "\n",
    "doc.add_heading('Входные параметры:', level=2)\n",
    "table = doc.add_table(rows=1, cols=3)\n",
    "# Оранжевая заливка для заголовка\n",
    "shading_elm = parse_xml(r'<w:shd {} w:fill=\"FFA500\"/>'.format(nsdecls('w')))\n",
    "for cell in table.rows[0].cells:\n",
    "    cell._tc.get_or_add_tcPr().append(shading_elm)\n",
    "hdr_cells = table.rows[0].cells\n",
    "hdr_cells[0].text = 'Параметр'\n",
    "hdr_cells[1].text = 'Тип'\n",
    "hdr_cells[2].text = 'Описание'\n",
    "params = [\n",
    "    ('full_name', 'string', 'Имя клиента для приветствия'),\n",
    "    ('company_name', 'string', 'Название компании'),\n",
    "]\n",
    "for p, t, d in params:\n",
    "    row = table.add_row().cells\n",
    "    row[0].text = p\n",
    "    row[1].text = t\n",
    "    row[2].text = d\n",
    "\n",
    "doc.add_heading('Пример запроса:', level=2)\n",
    "doc.add_paragraph(\n",
    "    '''POST /api/get_new_chat_id\n",
    "Content-Type: application/json\n",
    "\n",
    "{\n",
    "    \"full_name\": \"Степанчук Алена Сергеевна\",\n",
    "    \"company_name\": \"ЭнергоСбыт Плюс\"\n",
    "}'''\n",
    ")\n",
    "\n",
    "doc.add_heading('Пример ответа:', level=2)\n",
    "doc.add_paragraph(\n",
    "    '''{\n",
    "    \"chat_id\": \"783c6b4f-6ab2-4314-83e8-660cc0a6c735\",\n",
    "    \"message\": \"Здравствуйте. Меня зовут цифровой помощник, я представляю компанию ЭнергоСбыт Плюс. Звоню по вопросу задолженности по коммунальным услугам. В целях контроля качества разговор записывается. Подскажите, пожалуйста, я сейчас разговариваю c Степанчук Алена Сергеевна?\"\n",
    "}'''\n",
    ")\n",
    "doc.add_paragraph('В ответе вы получаете идентификатор чата (chat_id) и стартовую фразу, с которой начинается диалог.')\n",
    "\n",
    "doc.add_page_break()\n",
    "\n",
    "# 2. Ведение диалога с передачей динамических переменных\n",
    "doc.add_heading('2. Ведение диалога с передачей динамических переменных', level=1)\n",
    "doc.add_paragraph('Эндпоинт: POST /api/chat')\n",
    "doc.add_paragraph('Описание: Отправляет сообщение в чат и получает ответ от бота. Можно передавать любые переменные для подстановки в промпты. LLM запоминает диалог до завершения сессии. В ответе всегда возвращается статус диалога: \"in_progress\" — диалог продолжается, \"finished\" — диалог завершён (бот попрощался).')\n",
    "\n",
    "doc.add_heading('Входные параметры:', level=2)\n",
    "table = doc.add_table(rows=1, cols=3)\n",
    "shading_elm = parse_xml(r'<w:shd {} w:fill=\"FFA500\"/>'.format(nsdecls('w')))\n",
    "for cell in table.rows[0].cells:\n",
    "    cell._tc.get_or_add_tcPr().append(shading_elm)\n",
    "hdr_cells = table.rows[0].cells\n",
    "hdr_cells[0].text = 'Параметр'\n",
    "hdr_cells[1].text = 'Тип'\n",
    "hdr_cells[2].text = 'Описание'\n",
    "params = [\n",
    "    ('chat_id', 'string', 'Идентификатор чата'),\n",
    "    ('message', 'string', 'Сообщение пользователя'),\n",
    "    ('full_name', 'string', 'Имя клиента для обращения'),\n",
    "    ('account_number', 'string', 'Лицевой счет'),\n",
    "    ('debt_amount', 'string', 'Сумма долга'),\n",
    "    ('address', 'string', 'Адрес'),\n",
    "    ('company_name', 'string', 'Название компании'),\n",
    "    ('company_phone', 'string', 'Телефон компании'),\n",
    "    ('partial_payment_amount', 'string', 'Сумма частичной оплаты'),\n",
    "]\n",
    "for p, t, d in params:\n",
    "    row = table.add_row().cells\n",
    "    row[0].text = p\n",
    "    row[1].text = t\n",
    "    row[2].text = d\n",
    "\n",
    "doc.add_heading('Пример запроса:', level=2)\n",
    "doc.add_paragraph(\n",
    "    '''POST /api/chat\n",
    "Content-Type: application/json\n",
    "\n",
    "{\n",
    "    \"chat_id\": \"783c6b4f-6ab2-4314-83e8-660cc0a6c735\",\n",
    "    \"message\": \"да\",\n",
    "    \"full_name\": \"Степанчук Алена Сергеевна\",\n",
    "    \"account_number\": \"555888333\",\n",
    "    \"debt_amount\": \"50 999 руб.\",\n",
    "    \"address\": \"Москва, ул. Победы, д. 1\",\n",
    "    \"company_name\": \"ЭнергоСбыт Плюс\",\n",
    "    \"company_phone\": \"8-800-123-45-67\",\n",
    "    \"partial_payment_amount\": \"50 000 руб.\"\n",
    "}'''\n",
    ")\n",
    "\n",
    "doc.add_heading('Пример ответа:', level=2)\n",
    "doc.add_paragraph(\n",
    "    '''{\n",
    "    \"chat_id\": \"783c6b4f-6ab2-4314-83e8-660cc0a6c735\",\n",
    "    \"message\": \"На вашем лицевом счёте 555888333 по адресу Москва, ул. Победы, д. 1 образовалась задолженность в размере 50 999 руб. Скажите, пожалуйста, когда вы планируете произвести оплату?\",\n",
    "    \"status\": \"in_progress\"\n",
    "}'''\n",
    ")\n",
    "doc.add_paragraph('В ответе вы получаете ответ бота и статус диалога.')\n",
    "\n",
    "doc.add_page_break()\n",
    "\n",
    "# 3. Получение списка всех активных чатов\n",
    "doc.add_heading('3. Получение списка всех активных чатов', level=1)\n",
    "doc.add_paragraph('Эндпоинт: GET /api/get_all_chat_ids')\n",
    "doc.add_paragraph('Описание: Возвращает список всех активных chat_id.')\n",
    "\n",
    "doc.add_heading('Пример запроса:', level=2)\n",
    "doc.add_paragraph('GET /api/get_all_chat_ids')\n",
    "\n",
    "doc.add_heading('Пример ответа:', level=2)\n",
    "doc.add_paragraph(\n",
    "    '''[\n",
    "    \"783c6b4f-6ab2-4314-83e8-660cc0a6c735\",\n",
    "    \"30e92028-0618-40d3-8afa-92f303159b06\"\n",
    "]'''\n",
    ")\n",
    "\n",
    "doc.add_page_break()\n",
    "\n",
    "# 4. Удаление чата по chat_id\n",
    "doc.add_heading('4. Удаление чата по chat_id', level=1)\n",
    "doc.add_paragraph('Эндпоинт: POST /api/remove_chat_by_id')\n",
    "doc.add_paragraph('Описание: Удаляет чат по его идентификатору.')\n",
    "\n",
    "doc.add_heading('Входные параметры:', level=2)\n",
    "table = doc.add_table(rows=2, cols=3)\n",
    "table.style = 'Light List Accent 1'\n",
    "shading_elm = parse_xml(r'<w:shd {} w:fill=\"FFA500\"/>'.format(nsdecls('w')))\n",
    "for cell in table.rows[0].cells:\n",
    "    cell._tc.get_or_add_tcPr().append(shading_elm)\n",
    "table.rows[0].cells[0].text = 'Параметр'\n",
    "table.rows[0].cells[1].text = 'Тип'\n",
    "table.rows[0].cells[2].text = 'Описание'\n",
    "table.rows[1].cells[0].text = 'chat_id'\n",
    "table.rows[1].cells[1].text = 'string'\n",
    "table.rows[1].cells[2].text = 'Идентификатор чата для удаления'\n",
    "\n",
    "doc.add_heading('Пример запроса:', level=2)\n",
    "doc.add_paragraph(\n",
    "    '''POST /api/remove_chat_by_id\n",
    "Content-Type: application/json\n",
    "\n",
    "{\n",
    "    \"chat_id\": \"783c6b4f-6ab2-4314-83e8-660cc0a6c735\"\n",
    "}'''\n",
    ")\n",
    "\n",
    "doc.add_heading('Пример ответа:', level=2)\n",
    "doc.add_paragraph(\n",
    "    '''{\n",
    "    \"message\": \"chat deleted\"\n",
    "}'''\n",
    ")\n",
    "\n",
    "doc.save(\"Документация_API_чат-бота.docx\")"
   ]
  },
  {
   "cell_type": "code",
   "execution_count": null,
   "metadata": {},
   "outputs": [],
   "source": []
  },
  {
   "cell_type": "code",
   "execution_count": null,
   "metadata": {},
   "outputs": [],
   "source": []
  },
  {
   "cell_type": "code",
   "execution_count": null,
   "metadata": {},
   "outputs": [],
   "source": []
  },
  {
   "cell_type": "code",
   "execution_count": null,
   "metadata": {},
   "outputs": [],
   "source": []
  },
  {
   "cell_type": "code",
   "execution_count": 19,
   "metadata": {},
   "outputs": [
    {
     "name": "stdout",
     "output_type": "stream",
     "text": [
      "Ответ бота: {'chat_id': 'c8277bc3-c15c-4a35-96f9-364876bf49e8', 'message': 'Я цифровой помощник МосЭнерго. Я разговариваю с Криворучко Александра Ильинична?'}\n"
     ]
    }
   ],
   "source": [
    "import requests\n",
    "\n",
    "BASE_URL = \"http://77.239.108.6:6543\"\n",
    "\n",
    "\n",
    "# 2. Отправка сообщения с динамическими переменными (все значения можно менять)\n",
    "response = requests.post(\n",
    "    f\"{BASE_URL}/api/chat\",\n",
    "    json={\n",
    "        \"chat_id\": chat_id,\n",
    "        \"message\": \"А кто это звонит?\",\n",
    "        \"full_name\": \"Криворучко Александра Ильинична\",\n",
    "        \"account_number\": \"555888333\",\n",
    "        \"debt_amount\": \"99 999 руб.\",\n",
    "        \"address\": \"Москва, ул. Победы, д. 1\",\n",
    "        \"company_name\": \"МосЭнерго\",\n",
    "        \"company_phone\": \"8-800-123-45-67\",\n",
    "        \"partial_payment_amount\": \"50 000 руб.\"\n",
    "    }\n",
    ")\n",
    "data = response.json()\n",
    "print(\"Ответ бота:\", data)\n"
   ]
  },
  {
   "cell_type": "markdown",
   "metadata": {},
   "source": []
  },
  {
   "cell_type": "code",
   "execution_count": null,
   "metadata": {},
   "outputs": [],
   "source": []
  }
 ],
 "metadata": {
  "kernelspec": {
   "display_name": ".venv",
   "language": "python",
   "name": "python3"
  },
  "language_info": {
   "codemirror_mode": {
    "name": "ipython",
    "version": 3
   },
   "file_extension": ".py",
   "mimetype": "text/x-python",
   "name": "python",
   "nbconvert_exporter": "python",
   "pygments_lexer": "ipython3",
   "version": "3.12.3"
  }
 },
 "nbformat": 4,
 "nbformat_minor": 2
}
